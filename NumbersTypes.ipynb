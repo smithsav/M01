{
 "cells": [
  {
   "cell_type": "markdown",
   "id": "d15cf5b4-31d5-47ff-bfe4-b2295ee411ef",
   "metadata": {},
   "source": [
    "# 3.1 \n",
    "How many seconds are in an hour?\n",
    "Use the interactive interpreter as a calculator and multiply the number of seconds in a minute (60) \n",
    "by the number of minutes in an hour (also 60)."
   ]
  },
  {
   "cell_type": "code",
   "execution_count": null,
   "id": "8bd19834-a651-4ec1-8bb3-53c69b8e1001",
   "metadata": {},
   "outputs": [],
   "source": [
    "60 * 60\n",
    "# 3,600 seconds"
   ]
  },
  {
   "cell_type": "markdown",
   "id": "6610523c-ee84-4a99-bed0-4fcae8250b9d",
   "metadata": {},
   "source": [
    "# 3.2 \n",
    "Assign the result from the previous task (seconds in an hour) to a variable called seconds_per_hour."
   ]
  },
  {
   "cell_type": "code",
   "execution_count": null,
   "id": "d9582ca1-ecb7-4ea8-8f4e-60bead7319f2",
   "metadata": {},
   "outputs": [],
   "source": [
    "seconds_per_hour = 3600"
   ]
  },
  {
   "cell_type": "markdown",
   "id": "ad4e6663-d4b5-4904-8297-9fa39dbb4e9a",
   "metadata": {},
   "source": [
    "# 3.3 \n",
    "How many seconds are in a day? Use your seconds_per_hour variable."
   ]
  },
  {
   "cell_type": "code",
   "execution_count": 8,
   "id": "91d333eb-d863-4b8c-a308-108d7fed9eb3",
   "metadata": {},
   "outputs": [
    {
     "data": {
      "text/plain": [
       "86400"
      ]
     },
     "execution_count": 8,
     "metadata": {},
     "output_type": "execute_result"
    }
   ],
   "source": [
    "seconds_per_hour * 24"
   ]
  },
  {
   "cell_type": "markdown",
   "id": "872c0df9-955f-4a9b-905a-61fb60b4a2ed",
   "metadata": {},
   "source": [
    "# 3.4 \n",
    "Calculate seconds per day again, but this time save the result in a variable called seconds_per_day."
   ]
  },
  {
   "cell_type": "code",
   "execution_count": 10,
   "id": "67e26c8e-4cd2-490a-b89e-167882e37507",
   "metadata": {},
   "outputs": [
    {
     "name": "stdout",
     "output_type": "stream",
     "text": [
      "86400\n"
     ]
    }
   ],
   "source": [
    "seconds_per_day = seconds_per_hour * 24 #seconds per hour times hours in a day.\n",
    "print(seconds_per_day)"
   ]
  },
  {
   "cell_type": "markdown",
   "id": "a0c7cc86-332a-4bcb-ae6c-30652f1bd829",
   "metadata": {},
   "source": [
    "# 3.5 \n",
    "Divide seconds_per_day by seconds_per_hour. Use floating-point (/) division."
   ]
  },
  {
   "cell_type": "code",
   "execution_count": 12,
   "id": "59bff843-8640-40c4-b4a8-8292d457c722",
   "metadata": {},
   "outputs": [
    {
     "data": {
      "text/plain": [
       "24.0"
      ]
     },
     "execution_count": 12,
     "metadata": {},
     "output_type": "execute_result"
    }
   ],
   "source": [
    "seconds_per_day / seconds_per_hour"
   ]
  },
  {
   "cell_type": "markdown",
   "id": "7fc3133a-9af8-43a0-929a-e430f220f81b",
   "metadata": {},
   "source": [
    "# 3.6 \n",
    "Divide seconds_per_day by seconds_per_hour, using integer (//) division. \n",
    "Did this number agree with the floating-point value from the previous question, aside from the final .0?"
   ]
  },
  {
   "cell_type": "code",
   "execution_count": 13,
   "id": "31ecff22-f526-4480-805a-c100df6aab34",
   "metadata": {},
   "outputs": [
    {
     "data": {
      "text/plain": [
       "24"
      ]
     },
     "execution_count": 13,
     "metadata": {},
     "output_type": "execute_result"
    }
   ],
   "source": [
    "seconds_per_day // seconds_per_hour\n",
    "# yes same value, aside from the final .0."
   ]
  }
 ],
 "metadata": {
  "kernelspec": {
   "display_name": "Python 3 (ipykernel)",
   "language": "python",
   "name": "python3"
  },
  "language_info": {
   "codemirror_mode": {
    "name": "ipython",
    "version": 3
   },
   "file_extension": ".py",
   "mimetype": "text/x-python",
   "name": "python",
   "nbconvert_exporter": "python",
   "pygments_lexer": "ipython3",
   "version": "3.11.7"
  }
 },
 "nbformat": 4,
 "nbformat_minor": 5
}
